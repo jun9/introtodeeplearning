{
  "nbformat": 4,
  "nbformat_minor": 0,
  "metadata": {
    "colab": {
      "name": "RL.ipynb",
      "provenance": [],
      "collapsed_sections": [
        "jrI6q7RmWQam"
      ]
    },
    "kernelspec": {
      "name": "python3",
      "display_name": "Python 3"
    },
    "accelerator": "GPU"
  },
  "cells": [
    {
      "cell_type": "markdown",
      "metadata": {
        "id": "jrI6q7RmWQam"
      },
      "source": [
        "<table align=\"center\">\n",
        "  <td align=\"center\"><a target=\"_blank\" href=\"http://introtodeeplearning.com\">\n",
        "        <img src=\"https://i.ibb.co/Jr88sn2/mit.png\" style=\"padding-bottom:5px;\" />\n",
        "      Visit MIT Deep Learning</a></td>\n",
        "  <td align=\"center\"><a target=\"_blank\" href=\"https://colab.research.google.com/github/aamini/introtodeeplearning/blob/master/lab3/RL.ipynb\">\n",
        "        <img src=\"https://i.ibb.co/2P3SLwK/colab.png\"  style=\"padding-bottom:5px;\" />Run in Google Colab</a></td>\n",
        "  <td align=\"center\"><a target=\"_blank\" href=\"https://github.com/aamini/introtodeeplearning/blob/master/lab3/RL.ipynb\">\n",
        "        <img src=\"https://i.ibb.co/xfJbPmL/github.png\"  height=\"70px\" style=\"padding-bottom:5px;\"  />View Source on GitHub</a></td>\n",
        "</table>\n",
        "\n",
        "# Copyright Information"
      ]
    },
    {
      "cell_type": "code",
      "metadata": {
        "id": "wkd375upWYok"
      },
      "source": [
        "# Copyright 2021 MIT 6.S191 Introduction to Deep Learning. All Rights Reserved.\n",
        "# \n",
        "# Licensed under the MIT License. You may not use this file except in compliance\n",
        "# with the License. Use and/or modification of this code outside of 6.S191 must\n",
        "# reference:\n",
        "#\n",
        "# © MIT 6.S191: Introduction to Deep Learning\n",
        "# http://introtodeeplearning.com\n",
        "#"
      ],
      "execution_count": null,
      "outputs": []
    },
    {
      "cell_type": "markdown",
      "metadata": {
        "id": "WoXYKhfZMHiw"
      },
      "source": [
        "# Laboratory 3: Reinforcement Learning\n",
        "\n",
        "Reinforcement learning (RL) is a subset of machine learning which poses learning problems as interactions between agents and environments. It often assumes agents have no prior knowledge of a world, so they must learn to navigate environments by optimizing a reward function. Within an environment, an agent can take certain actions and receive feedback, in the form of positive or negative rewards, with respect to their decision. As such, an agent's feedback loop is somewhat akin to the idea of \"trial and error\", or the manner in which a child might learn to distinguish between \"good\" and \"bad\" actions.\n",
        "\n",
        "In practical terms, our RL agent will interact with the environment by taking an action at each timestep, receiving a corresponding reward, and updating its state according to what it has \"learned\".  \n",
        "\n",
        "![alt text](https://www.kdnuggets.com/images/reinforcement-learning-fig1-700.jpg)\n",
        "\n",
        "While the ultimate goal of reinforcement learning is to teach agents to act in the real, physical world, games provide a convenient proving ground for developing RL algorithms and agents. Games have some properties that make them particularly well suited for RL: \n",
        "\n",
        "1.   In many cases, games have perfectly describable environments. For example, all rules of chess can be formally written and programmed into a chess game simulator;\n",
        "2.   Games are massively parallelizable. Since they do not require running in the real world, simultaneous environments can be run on large data clusters; \n",
        "3.   Simpler scenarios in games enable fast prototyping. This speeds up the development of algorithms that could eventually run in the real-world; and\n",
        "4.   ... Games are fun! \n",
        "\n",
        "In previous labs, we have explored both supervised (with LSTMs, CNNs) and unsupervised / semi-supervised (with VAEs) learning tasks. Reinforcement learning is fundamentally different, in that we are training a deep learning algorithm to govern the actions of our RL agent, that is trying, within its environment, to find the optimal way to achieve a goal. The goal of training an RL agent is to determine the best next step to take to earn the greatest final payoff or return. In this lab, we focus on building a reinforcement learning algorithm to master two different environments with varying complexity. \n",
        "\n",
        "1.   **Cartpole**:   Balance a pole, protruding from a cart, in an upright position by only moving the base left or right. Environment with a low-dimensional observation space.\n",
        "2.   [**Pong**](https://en.wikipedia.org/wiki/Pong): Beat your competitors (whether other AI or humans!) at the game of Pong. Environment with a high-dimensional observation space -- learning directly from raw pixels.\n",
        "\n",
        "Let's get started! First we'll import TensorFlow, the course package, and some dependencies.\n"
      ]
    },
    {
      "cell_type": "code",
      "metadata": {
        "id": "EvdePP-VyVWp",
        "outputId": "32a9e839-895c-4a2a-bc81-0c5d15d40fe1",
        "colab": {
          "base_uri": "https://localhost:8080/"
        }
      },
      "source": [
        "#Install some dependencies for visualizing the agents\n",
        "!apt-get install -y xvfb python-opengl x11-utils > /dev/null 2>&1\n",
        "!pip install gym pyvirtualdisplay scikit-video > /dev/null 2>&1\n",
        "\n",
        "# Import Tensorflow 2.0\n",
        "%tensorflow_version 2.x\n",
        "import tensorflow as tf\n",
        "\n",
        "import numpy as np\n",
        "import base64, io, time, gym\n",
        "import IPython, functools\n",
        "import matplotlib.pyplot as plt\n",
        "import time\n",
        "from tqdm import tqdm\n",
        "\n",
        "# Download and import the MIT 6.S191 package\n",
        "!pip install mitdeeplearning\n",
        "import mitdeeplearning as mdl"
      ],
      "execution_count": 1,
      "outputs": [
        {
          "output_type": "stream",
          "text": [
            "Collecting mitdeeplearning\n",
            "\u001b[?25l  Downloading https://files.pythonhosted.org/packages/9d/ad/650eb53c0d9d1213536fe94bc150f89b564ff5ee784bd662272584bb091b/mitdeeplearning-0.2.0.tar.gz (2.1MB)\n",
            "\r\u001b[K     |▏                               | 10kB 24.6MB/s eta 0:00:01\r\u001b[K     |▎                               | 20kB 32.0MB/s eta 0:00:01\r\u001b[K     |▌                               | 30kB 21.1MB/s eta 0:00:01\r\u001b[K     |▋                               | 40kB 21.0MB/s eta 0:00:01\r\u001b[K     |▉                               | 51kB 23.5MB/s eta 0:00:01\r\u001b[K     |█                               | 61kB 16.4MB/s eta 0:00:01\r\u001b[K     |█                               | 71kB 17.1MB/s eta 0:00:01\r\u001b[K     |█▎                              | 81kB 17.8MB/s eta 0:00:01\r\u001b[K     |█▍                              | 92kB 15.9MB/s eta 0:00:01\r\u001b[K     |█▋                              | 102kB 17.1MB/s eta 0:00:01\r\u001b[K     |█▊                              | 112kB 17.1MB/s eta 0:00:01\r\u001b[K     |█▉                              | 122kB 17.1MB/s eta 0:00:01\r\u001b[K     |██                              | 133kB 17.1MB/s eta 0:00:01\r\u001b[K     |██▏                             | 143kB 17.1MB/s eta 0:00:01\r\u001b[K     |██▍                             | 153kB 17.1MB/s eta 0:00:01\r\u001b[K     |██▌                             | 163kB 17.1MB/s eta 0:00:01\r\u001b[K     |██▋                             | 174kB 17.1MB/s eta 0:00:01\r\u001b[K     |██▉                             | 184kB 17.1MB/s eta 0:00:01\r\u001b[K     |███                             | 194kB 17.1MB/s eta 0:00:01\r\u001b[K     |███▏                            | 204kB 17.1MB/s eta 0:00:01\r\u001b[K     |███▎                            | 215kB 17.1MB/s eta 0:00:01\r\u001b[K     |███▌                            | 225kB 17.1MB/s eta 0:00:01\r\u001b[K     |███▋                            | 235kB 17.1MB/s eta 0:00:01\r\u001b[K     |███▊                            | 245kB 17.1MB/s eta 0:00:01\r\u001b[K     |████                            | 256kB 17.1MB/s eta 0:00:01\r\u001b[K     |████                            | 266kB 17.1MB/s eta 0:00:01\r\u001b[K     |████▎                           | 276kB 17.1MB/s eta 0:00:01\r\u001b[K     |████▍                           | 286kB 17.1MB/s eta 0:00:01\r\u001b[K     |████▌                           | 296kB 17.1MB/s eta 0:00:01\r\u001b[K     |████▊                           | 307kB 17.1MB/s eta 0:00:01\r\u001b[K     |████▉                           | 317kB 17.1MB/s eta 0:00:01\r\u001b[K     |█████                           | 327kB 17.1MB/s eta 0:00:01\r\u001b[K     |█████▏                          | 337kB 17.1MB/s eta 0:00:01\r\u001b[K     |█████▎                          | 348kB 17.1MB/s eta 0:00:01\r\u001b[K     |█████▌                          | 358kB 17.1MB/s eta 0:00:01\r\u001b[K     |█████▋                          | 368kB 17.1MB/s eta 0:00:01\r\u001b[K     |█████▉                          | 378kB 17.1MB/s eta 0:00:01\r\u001b[K     |██████                          | 389kB 17.1MB/s eta 0:00:01\r\u001b[K     |██████▏                         | 399kB 17.1MB/s eta 0:00:01\r\u001b[K     |██████▎                         | 409kB 17.1MB/s eta 0:00:01\r\u001b[K     |██████▍                         | 419kB 17.1MB/s eta 0:00:01\r\u001b[K     |██████▋                         | 430kB 17.1MB/s eta 0:00:01\r\u001b[K     |██████▊                         | 440kB 17.1MB/s eta 0:00:01\r\u001b[K     |███████                         | 450kB 17.1MB/s eta 0:00:01\r\u001b[K     |███████                         | 460kB 17.1MB/s eta 0:00:01\r\u001b[K     |███████▏                        | 471kB 17.1MB/s eta 0:00:01\r\u001b[K     |███████▍                        | 481kB 17.1MB/s eta 0:00:01\r\u001b[K     |███████▌                        | 491kB 17.1MB/s eta 0:00:01\r\u001b[K     |███████▊                        | 501kB 17.1MB/s eta 0:00:01\r\u001b[K     |███████▉                        | 512kB 17.1MB/s eta 0:00:01\r\u001b[K     |████████                        | 522kB 17.1MB/s eta 0:00:01\r\u001b[K     |████████▏                       | 532kB 17.1MB/s eta 0:00:01\r\u001b[K     |████████▎                       | 542kB 17.1MB/s eta 0:00:01\r\u001b[K     |████████▌                       | 552kB 17.1MB/s eta 0:00:01\r\u001b[K     |████████▋                       | 563kB 17.1MB/s eta 0:00:01\r\u001b[K     |████████▉                       | 573kB 17.1MB/s eta 0:00:01\r\u001b[K     |█████████                       | 583kB 17.1MB/s eta 0:00:01\r\u001b[K     |█████████                       | 593kB 17.1MB/s eta 0:00:01\r\u001b[K     |█████████▎                      | 604kB 17.1MB/s eta 0:00:01\r\u001b[K     |█████████▍                      | 614kB 17.1MB/s eta 0:00:01\r\u001b[K     |█████████▋                      | 624kB 17.1MB/s eta 0:00:01\r\u001b[K     |█████████▊                      | 634kB 17.1MB/s eta 0:00:01\r\u001b[K     |█████████▉                      | 645kB 17.1MB/s eta 0:00:01\r\u001b[K     |██████████                      | 655kB 17.1MB/s eta 0:00:01\r\u001b[K     |██████████▏                     | 665kB 17.1MB/s eta 0:00:01\r\u001b[K     |██████████▍                     | 675kB 17.1MB/s eta 0:00:01\r\u001b[K     |██████████▌                     | 686kB 17.1MB/s eta 0:00:01\r\u001b[K     |██████████▋                     | 696kB 17.1MB/s eta 0:00:01\r\u001b[K     |██████████▉                     | 706kB 17.1MB/s eta 0:00:01\r\u001b[K     |███████████                     | 716kB 17.1MB/s eta 0:00:01\r\u001b[K     |███████████▏                    | 727kB 17.1MB/s eta 0:00:01\r\u001b[K     |███████████▎                    | 737kB 17.1MB/s eta 0:00:01\r\u001b[K     |███████████▍                    | 747kB 17.1MB/s eta 0:00:01\r\u001b[K     |███████████▋                    | 757kB 17.1MB/s eta 0:00:01\r\u001b[K     |███████████▊                    | 768kB 17.1MB/s eta 0:00:01\r\u001b[K     |████████████                    | 778kB 17.1MB/s eta 0:00:01\r\u001b[K     |████████████                    | 788kB 17.1MB/s eta 0:00:01\r\u001b[K     |████████████▎                   | 798kB 17.1MB/s eta 0:00:01\r\u001b[K     |████████████▍                   | 808kB 17.1MB/s eta 0:00:01\r\u001b[K     |████████████▌                   | 819kB 17.1MB/s eta 0:00:01\r\u001b[K     |████████████▊                   | 829kB 17.1MB/s eta 0:00:01\r\u001b[K     |████████████▉                   | 839kB 17.1MB/s eta 0:00:01\r\u001b[K     |█████████████                   | 849kB 17.1MB/s eta 0:00:01\r\u001b[K     |█████████████▏                  | 860kB 17.1MB/s eta 0:00:01\r\u001b[K     |█████████████▎                  | 870kB 17.1MB/s eta 0:00:01\r\u001b[K     |█████████████▌                  | 880kB 17.1MB/s eta 0:00:01\r\u001b[K     |█████████████▋                  | 890kB 17.1MB/s eta 0:00:01\r\u001b[K     |█████████████▉                  | 901kB 17.1MB/s eta 0:00:01\r\u001b[K     |██████████████                  | 911kB 17.1MB/s eta 0:00:01\r\u001b[K     |██████████████                  | 921kB 17.1MB/s eta 0:00:01\r\u001b[K     |██████████████▎                 | 931kB 17.1MB/s eta 0:00:01\r\u001b[K     |██████████████▍                 | 942kB 17.1MB/s eta 0:00:01\r\u001b[K     |██████████████▋                 | 952kB 17.1MB/s eta 0:00:01\r\u001b[K     |██████████████▊                 | 962kB 17.1MB/s eta 0:00:01\r\u001b[K     |███████████████                 | 972kB 17.1MB/s eta 0:00:01\r\u001b[K     |███████████████                 | 983kB 17.1MB/s eta 0:00:01\r\u001b[K     |███████████████▏                | 993kB 17.1MB/s eta 0:00:01\r\u001b[K     |███████████████▍                | 1.0MB 17.1MB/s eta 0:00:01\r\u001b[K     |███████████████▌                | 1.0MB 17.1MB/s eta 0:00:01\r\u001b[K     |███████████████▊                | 1.0MB 17.1MB/s eta 0:00:01\r\u001b[K     |███████████████▉                | 1.0MB 17.1MB/s eta 0:00:01\r\u001b[K     |████████████████                | 1.0MB 17.1MB/s eta 0:00:01\r\u001b[K     |████████████████▏               | 1.1MB 17.1MB/s eta 0:00:01\r\u001b[K     |████████████████▎               | 1.1MB 17.1MB/s eta 0:00:01\r\u001b[K     |████████████████▌               | 1.1MB 17.1MB/s eta 0:00:01\r\u001b[K     |████████████████▋               | 1.1MB 17.1MB/s eta 0:00:01\r\u001b[K     |████████████████▊               | 1.1MB 17.1MB/s eta 0:00:01\r\u001b[K     |█████████████████               | 1.1MB 17.1MB/s eta 0:00:01\r\u001b[K     |█████████████████               | 1.1MB 17.1MB/s eta 0:00:01\r\u001b[K     |█████████████████▎              | 1.1MB 17.1MB/s eta 0:00:01\r\u001b[K     |█████████████████▍              | 1.1MB 17.1MB/s eta 0:00:01\r\u001b[K     |█████████████████▋              | 1.1MB 17.1MB/s eta 0:00:01\r\u001b[K     |█████████████████▊              | 1.2MB 17.1MB/s eta 0:00:01\r\u001b[K     |█████████████████▉              | 1.2MB 17.1MB/s eta 0:00:01\r\u001b[K     |██████████████████              | 1.2MB 17.1MB/s eta 0:00:01\r\u001b[K     |██████████████████▏             | 1.2MB 17.1MB/s eta 0:00:01\r\u001b[K     |██████████████████▍             | 1.2MB 17.1MB/s eta 0:00:01\r\u001b[K     |██████████████████▌             | 1.2MB 17.1MB/s eta 0:00:01\r\u001b[K     |██████████████████▋             | 1.2MB 17.1MB/s eta 0:00:01\r\u001b[K     |██████████████████▉             | 1.2MB 17.1MB/s eta 0:00:01\r\u001b[K     |███████████████████             | 1.2MB 17.1MB/s eta 0:00:01\r\u001b[K     |███████████████████▏            | 1.2MB 17.1MB/s eta 0:00:01\r\u001b[K     |███████████████████▎            | 1.3MB 17.1MB/s eta 0:00:01\r\u001b[K     |███████████████████▍            | 1.3MB 17.1MB/s eta 0:00:01\r\u001b[K     |███████████████████▋            | 1.3MB 17.1MB/s eta 0:00:01\r\u001b[K     |███████████████████▊            | 1.3MB 17.1MB/s eta 0:00:01\r\u001b[K     |████████████████████            | 1.3MB 17.1MB/s eta 0:00:01\r\u001b[K     |████████████████████            | 1.3MB 17.1MB/s eta 0:00:01\r\u001b[K     |████████████████████▎           | 1.3MB 17.1MB/s eta 0:00:01\r\u001b[K     |████████████████████▍           | 1.3MB 17.1MB/s eta 0:00:01\r\u001b[K     |████████████████████▌           | 1.3MB 17.1MB/s eta 0:00:01\r\u001b[K     |████████████████████▊           | 1.4MB 17.1MB/s eta 0:00:01\r\u001b[K     |████████████████████▉           | 1.4MB 17.1MB/s eta 0:00:01\r\u001b[K     |█████████████████████           | 1.4MB 17.1MB/s eta 0:00:01\r\u001b[K     |█████████████████████▏          | 1.4MB 17.1MB/s eta 0:00:01\r\u001b[K     |█████████████████████▎          | 1.4MB 17.1MB/s eta 0:00:01\r\u001b[K     |█████████████████████▌          | 1.4MB 17.1MB/s eta 0:00:01\r\u001b[K     |█████████████████████▋          | 1.4MB 17.1MB/s eta 0:00:01\r\u001b[K     |█████████████████████▉          | 1.4MB 17.1MB/s eta 0:00:01\r\u001b[K     |██████████████████████          | 1.4MB 17.1MB/s eta 0:00:01\r\u001b[K     |██████████████████████          | 1.4MB 17.1MB/s eta 0:00:01\r\u001b[K     |██████████████████████▎         | 1.5MB 17.1MB/s eta 0:00:01\r\u001b[K     |██████████████████████▍         | 1.5MB 17.1MB/s eta 0:00:01\r\u001b[K     |██████████████████████▋         | 1.5MB 17.1MB/s eta 0:00:01\r\u001b[K     |██████████████████████▊         | 1.5MB 17.1MB/s eta 0:00:01\r\u001b[K     |██████████████████████▉         | 1.5MB 17.1MB/s eta 0:00:01\r\u001b[K     |███████████████████████         | 1.5MB 17.1MB/s eta 0:00:01\r\u001b[K     |███████████████████████▏        | 1.5MB 17.1MB/s eta 0:00:01\r\u001b[K     |███████████████████████▍        | 1.5MB 17.1MB/s eta 0:00:01\r\u001b[K     |███████████████████████▌        | 1.5MB 17.1MB/s eta 0:00:01\r\u001b[K     |███████████████████████▊        | 1.5MB 17.1MB/s eta 0:00:01\r\u001b[K     |███████████████████████▉        | 1.6MB 17.1MB/s eta 0:00:01\r\u001b[K     |████████████████████████        | 1.6MB 17.1MB/s eta 0:00:01\r\u001b[K     |████████████████████████▏       | 1.6MB 17.1MB/s eta 0:00:01\r\u001b[K     |████████████████████████▎       | 1.6MB 17.1MB/s eta 0:00:01\r\u001b[K     |████████████████████████▌       | 1.6MB 17.1MB/s eta 0:00:01\r\u001b[K     |████████████████████████▋       | 1.6MB 17.1MB/s eta 0:00:01\r\u001b[K     |████████████████████████▊       | 1.6MB 17.1MB/s eta 0:00:01\r\u001b[K     |█████████████████████████       | 1.6MB 17.1MB/s eta 0:00:01\r\u001b[K     |█████████████████████████       | 1.6MB 17.1MB/s eta 0:00:01\r\u001b[K     |█████████████████████████▎      | 1.6MB 17.1MB/s eta 0:00:01\r\u001b[K     |█████████████████████████▍      | 1.7MB 17.1MB/s eta 0:00:01\r\u001b[K     |█████████████████████████▌      | 1.7MB 17.1MB/s eta 0:00:01\r\u001b[K     |█████████████████████████▊      | 1.7MB 17.1MB/s eta 0:00:01\r\u001b[K     |█████████████████████████▉      | 1.7MB 17.1MB/s eta 0:00:01\r\u001b[K     |██████████████████████████      | 1.7MB 17.1MB/s eta 0:00:01\r\u001b[K     |██████████████████████████▏     | 1.7MB 17.1MB/s eta 0:00:01\r\u001b[K     |██████████████████████████▍     | 1.7MB 17.1MB/s eta 0:00:01\r\u001b[K     |██████████████████████████▌     | 1.7MB 17.1MB/s eta 0:00:01\r\u001b[K     |██████████████████████████▋     | 1.7MB 17.1MB/s eta 0:00:01\r\u001b[K     |██████████████████████████▉     | 1.8MB 17.1MB/s eta 0:00:01\r\u001b[K     |███████████████████████████     | 1.8MB 17.1MB/s eta 0:00:01\r\u001b[K     |███████████████████████████▏    | 1.8MB 17.1MB/s eta 0:00:01\r\u001b[K     |███████████████████████████▎    | 1.8MB 17.1MB/s eta 0:00:01\r\u001b[K     |███████████████████████████▍    | 1.8MB 17.1MB/s eta 0:00:01\r\u001b[K     |███████████████████████████▋    | 1.8MB 17.1MB/s eta 0:00:01\r\u001b[K     |███████████████████████████▊    | 1.8MB 17.1MB/s eta 0:00:01\r\u001b[K     |████████████████████████████    | 1.8MB 17.1MB/s eta 0:00:01\r\u001b[K     |████████████████████████████    | 1.8MB 17.1MB/s eta 0:00:01\r\u001b[K     |████████████████████████████▏   | 1.8MB 17.1MB/s eta 0:00:01\r\u001b[K     |████████████████████████████▍   | 1.9MB 17.1MB/s eta 0:00:01\r\u001b[K     |████████████████████████████▌   | 1.9MB 17.1MB/s eta 0:00:01\r\u001b[K     |████████████████████████████▊   | 1.9MB 17.1MB/s eta 0:00:01\r\u001b[K     |████████████████████████████▉   | 1.9MB 17.1MB/s eta 0:00:01\r\u001b[K     |█████████████████████████████   | 1.9MB 17.1MB/s eta 0:00:01\r\u001b[K     |█████████████████████████████▏  | 1.9MB 17.1MB/s eta 0:00:01\r\u001b[K     |█████████████████████████████▎  | 1.9MB 17.1MB/s eta 0:00:01\r\u001b[K     |█████████████████████████████▌  | 1.9MB 17.1MB/s eta 0:00:01\r\u001b[K     |█████████████████████████████▋  | 1.9MB 17.1MB/s eta 0:00:01\r\u001b[K     |█████████████████████████████▉  | 1.9MB 17.1MB/s eta 0:00:01\r\u001b[K     |██████████████████████████████  | 2.0MB 17.1MB/s eta 0:00:01\r\u001b[K     |██████████████████████████████  | 2.0MB 17.1MB/s eta 0:00:01\r\u001b[K     |██████████████████████████████▎ | 2.0MB 17.1MB/s eta 0:00:01\r\u001b[K     |██████████████████████████████▍ | 2.0MB 17.1MB/s eta 0:00:01\r\u001b[K     |██████████████████████████████▋ | 2.0MB 17.1MB/s eta 0:00:01\r\u001b[K     |██████████████████████████████▊ | 2.0MB 17.1MB/s eta 0:00:01\r\u001b[K     |██████████████████████████████▉ | 2.0MB 17.1MB/s eta 0:00:01\r\u001b[K     |███████████████████████████████ | 2.0MB 17.1MB/s eta 0:00:01\r\u001b[K     |███████████████████████████████▏| 2.0MB 17.1MB/s eta 0:00:01\r\u001b[K     |███████████████████████████████▍| 2.0MB 17.1MB/s eta 0:00:01\r\u001b[K     |███████████████████████████████▌| 2.1MB 17.1MB/s eta 0:00:01\r\u001b[K     |███████████████████████████████▊| 2.1MB 17.1MB/s eta 0:00:01\r\u001b[K     |███████████████████████████████▉| 2.1MB 17.1MB/s eta 0:00:01\r\u001b[K     |████████████████████████████████| 2.1MB 17.1MB/s eta 0:00:01\r\u001b[K     |████████████████████████████████| 2.1MB 17.1MB/s \n",
            "\u001b[?25hRequirement already satisfied: numpy in /usr/local/lib/python3.7/dist-packages (from mitdeeplearning) (1.19.5)\n",
            "Requirement already satisfied: regex in /usr/local/lib/python3.7/dist-packages (from mitdeeplearning) (2019.12.20)\n",
            "Requirement already satisfied: tqdm in /usr/local/lib/python3.7/dist-packages (from mitdeeplearning) (4.41.1)\n",
            "Requirement already satisfied: gym in /usr/local/lib/python3.7/dist-packages (from mitdeeplearning) (0.17.3)\n",
            "Requirement already satisfied: scipy in /usr/local/lib/python3.7/dist-packages (from gym->mitdeeplearning) (1.4.1)\n",
            "Requirement already satisfied: pyglet<=1.5.0,>=1.4.0 in /usr/local/lib/python3.7/dist-packages (from gym->mitdeeplearning) (1.5.0)\n",
            "Requirement already satisfied: cloudpickle<1.7.0,>=1.2.0 in /usr/local/lib/python3.7/dist-packages (from gym->mitdeeplearning) (1.3.0)\n",
            "Requirement already satisfied: future in /usr/local/lib/python3.7/dist-packages (from pyglet<=1.5.0,>=1.4.0->gym->mitdeeplearning) (0.16.0)\n",
            "Building wheels for collected packages: mitdeeplearning\n",
            "  Building wheel for mitdeeplearning (setup.py) ... \u001b[?25l\u001b[?25hdone\n",
            "  Created wheel for mitdeeplearning: filename=mitdeeplearning-0.2.0-cp37-none-any.whl size=2115442 sha256=87ff25659d8f591727e2d0d2dffec0aeb69812383206cf44824953cb4f6d35aa\n",
            "  Stored in directory: /root/.cache/pip/wheels/af/dc/2a/5c3633135e7e4ef4fd31463cfa1942cb1bae7486ab94e7a2ad\n",
            "Successfully built mitdeeplearning\n",
            "Installing collected packages: mitdeeplearning\n",
            "Successfully installed mitdeeplearning-0.2.0\n"
          ],
          "name": "stdout"
        }
      ]
    },
    {
      "cell_type": "markdown",
      "metadata": {
        "id": "zmrHSiXKTXTY"
      },
      "source": [
        "Before we dive in, let's take a step back and outline our approach, which is generally applicable to reinforcement learning problems in general:\n",
        "\n",
        "1. **Initialize our environment and our agent**: here we will describe the different observations and actions the agent can make in the environemnt.\n",
        "2. **Define our agent's memory**: this will enable the agent to remember its past actions, observations, and rewards.\n",
        "3. **Define a reward function**: describes the reward associated with an action or sequence of actions.\n",
        "4. **Define the learning algorithm**: this will be used to reinforce the agent's good behaviors and discourage bad behaviors.\n"
      ]
    },
    {
      "cell_type": "markdown",
      "metadata": {
        "id": "UT7YL8KBJIIc"
      },
      "source": [
        "# Part 1: Cartpole\n",
        "\n",
        "## 3.1 Define the Cartpole environment and agent\n",
        "\n",
        "### Environment \n",
        "\n",
        "In order to model the environment for both the Cartpole and Pong tasks, we'll be using a toolkit developed by OpenAI called [OpenAI Gym](https://gym.openai.com/). It provides several pre-defined environments for training and testing reinforcement learning agents, including those for classic physics control tasks, Atari video games, and robotic simulations. To access the Cartpole environment, we can use `env = gym.make(\"CartPole-v0\")`, which we gained access to when we imported the `gym` package. We can instantiate different [environments](https://gym.openai.com/envs/#classic_control) by passing the enivronment name to the `make` function.\n",
        "\n",
        "One issue we might experience when developing RL algorithms is that many aspects of the learning process are inherently random: initializing game states, changes in the environment, and the agent's actions. As such, it can be helpful to set a initial \"seed\" for the environment to ensure some level of reproducibility. Much like you might use `numpy.random.seed`, we can call the comparable function in gym, `seed`, with our defined environment to ensure the environment's random variables are initialized the same each time."
      ]
    },
    {
      "cell_type": "code",
      "metadata": {
        "id": "quv9SC0iIYFm",
        "outputId": "77e33997-6043-4c77-952d-f5dd74098490",
        "colab": {
          "base_uri": "https://localhost:8080/"
        }
      },
      "source": [
        "### Instantiate the Cartpole environment ###\n",
        "\n",
        "env = gym.make(\"CartPole-v0\")\n",
        "env.seed(1)"
      ],
      "execution_count": 2,
      "outputs": [
        {
          "output_type": "execute_result",
          "data": {
            "text/plain": [
              "[1]"
            ]
          },
          "metadata": {
            "tags": []
          },
          "execution_count": 2
        }
      ]
    },
    {
      "cell_type": "markdown",
      "metadata": {
        "id": "mhEITUcKK455"
      },
      "source": [
        "In Cartpole, a pole is attached by an un-actuated joint to a cart, which moves along a frictionless track. The pole starts upright, and the goal is to prevent it from falling over. The system is controlled by applying a force of +1 or -1 to the cart. A reward of +1 is provided for every timestep that the pole remains upright. The episode ends when the pole is more than 15 degrees from vertical, or the cart moves more than 2.4 units from the center of the track. A visual summary of the cartpole environment is depicted below:\n",
        "\n",
        "<img width=\"400px\" src=\"https://danielpiedrahita.files.wordpress.com/2017/02/cart-pole.png\"></img>\n",
        "\n",
        "Given this setup for the environment and the objective of the game, we can think about: 1) what observations help define the environment's state; 2) what actions the agent can take. \n",
        "\n",
        "First, let's consider the observation space. In this Cartpole environment our observations are:\n",
        "\n",
        "1. Cart position\n",
        "2. Cart velocity\n",
        "3. Pole angle\n",
        "4. Pole rotation rate\n",
        "\n",
        "We can confirm the size of the space by querying the environment's observation space:\n"
      ]
    },
    {
      "cell_type": "code",
      "metadata": {
        "id": "UVJaEcbdIX82",
        "outputId": "889bb9b5-8f56-4c54-de37-35a35eea1b11",
        "colab": {
          "base_uri": "https://localhost:8080/"
        }
      },
      "source": [
        "n_observations = env.observation_space\n",
        "print(\"Environment has observation space =\", n_observations)"
      ],
      "execution_count": 3,
      "outputs": [
        {
          "output_type": "stream",
          "text": [
            "Environment has observation space = Box(-3.4028234663852886e+38, 3.4028234663852886e+38, (4,), float32)\n"
          ],
          "name": "stdout"
        }
      ]
    },
    {
      "cell_type": "markdown",
      "metadata": {
        "id": "ZibGgjrALgPM"
      },
      "source": [
        "Second, we consider the action space. At every time step, the agent can move either right or left. Again we can confirm the size of the action space by querying the environment:"
      ]
    },
    {
      "cell_type": "code",
      "metadata": {
        "id": "qc9SIPxBIXrm",
        "outputId": "00e1e43e-051c-4757-d1ef-c7b1087d7564",
        "colab": {
          "base_uri": "https://localhost:8080/"
        }
      },
      "source": [
        "n_actions = env.action_space.n\n",
        "print(\"Number of possible actions that the agent can choose from =\", n_actions)"
      ],
      "execution_count": 4,
      "outputs": [
        {
          "output_type": "stream",
          "text": [
            "Number of possible actions that the agent can choose from = 2\n"
          ],
          "name": "stdout"
        }
      ]
    },
    {
      "cell_type": "markdown",
      "metadata": {
        "id": "pPfHME8aRKkb"
      },
      "source": [
        "### Cartpole agent\n",
        "\n",
        "Now that we have instantiated the environment and understood the dimensionality of the observation and action spaces, we are ready to define our agent. In deep reinforcement learning, a deep neural network defines the agent. This network will take as input an observation of the environment and output the probability of taking each of the possible actions. Since Cartpole is defined by a low-dimensional observation space, a simple feed-forward neural network should work well for our agent. We will define this using the `Sequential` API.\n"
      ]
    },
    {
      "cell_type": "code",
      "metadata": {
        "id": "W-o_XK4oQ4eu"
      },
      "source": [
        "### Define the Cartpole agent ###\n",
        "\n",
        "# Defines a feed-forward neural network\n",
        "def create_cartpole_model():\n",
        "  model = tf.keras.models.Sequential([\n",
        "      # First Dense layer\n",
        "      tf.keras.layers.Dense(units=32, activation='relu'),\n",
        "      \n",
        "      tf.keras.layers.Dense(units=n_actions, activation=None)\n",
        "\n",
        "      #TODO: Define the last Dense layer, which will provide the network's output.\n",
        "      #Think about the space the agent needs to act in!'''\n",
        "  ])\n",
        "  return model\n",
        "\n",
        "cartpole_model = create_cartpole_model()"
      ],
      "execution_count": 23,
      "outputs": []
    },
    {
      "cell_type": "markdown",
      "metadata": {
        "id": "d5D5NSIYS2IW"
      },
      "source": [
        "Now that we have defined the core network architecture, we will define an *action function* that executes a forward pass through the network, given a set of observations, and samples from the output. This sampling from the output probabilities will be used to select the next action for the agent. We will also add support so that the `choose_action` function can handle either a single observation or a batch of observations.\n",
        "\n",
        "**Critically, this action function is totally general -- we will use this function for both Cartpole and Pong, and it is applicable to other RL tasks, as well!**"
      ]
    },
    {
      "cell_type": "code",
      "metadata": {
        "id": "E_vVZRr8Q4R_"
      },
      "source": [
        "### Define the agent's action function ###\n",
        "\n",
        "# Function that takes observations as input, executes a forward pass through model, \n",
        "#   and outputs a sampled action.\n",
        "# Arguments:\n",
        "#   model: the network that defines our agent\n",
        "#   observation: observation(s) which is/are fed as input to the model\n",
        "#   single: flag as to whether we are handling a single observation or batch of\n",
        "#     observations, provided as an np.array\n",
        "# Returns:\n",
        "#   action: choice of agent action\n",
        "def choose_action(model, observation, single=True):\n",
        "  # add batch dimension to the observation if only a single example was provided\n",
        "  observation = np.expand_dims(observation, axis=0) if single else observation\n",
        "\n",
        "  '''TODO: feed the observations through the model to predict the log \n",
        "  probabilities of each possible action.'''\n",
        "  logits = model.predict(observation)\n",
        "  \n",
        "  '''TODO: Choose an action from the categorical distribution defined by the log \n",
        "      probabilities of each possible action.'''\n",
        "  action = tf.random.categorical(logits, num_samples=1)\n",
        "\n",
        "  action = action.numpy().flatten()\n",
        "\n",
        "  return action[0] if single else action"
      ],
      "execution_count": 24,
      "outputs": []
    },
    {
      "cell_type": "markdown",
      "metadata": {
        "id": "_tR9uAWcTnkr"
      },
      "source": [
        "## 3.2 Define the agent's memory\n",
        "\n",
        "Now that we have instantiated the environment and defined the agent network architecture and action function, we are ready to move on to the next step in our RL workflow:\n",
        "1. **Initialize our environment and our agent**: here we will describe the different observations and actions the agent can make in the environemnt.\n",
        "2. **Define our agent's memory**: this will enable the agent to remember its past actions, observations, and rewards.\n",
        "3. **Define the learning algorithm**: this will be used to reinforce the agent's good behaviors and discourage bad behaviors.\n",
        "\n",
        "In reinforcement learning, training occurs alongside the agent's acting in the environment; an *episode* refers to a sequence of actions that ends in some terminal state, such as the pole falling down or the cart crashing. The agent will need to remember all of its observations and actions, such that once an episode ends, it can learn to \"reinforce\" the good actions and punish the undesirable actions via training. Our first step is to define a simple `Memory` buffer that contains the agent's observations, actions, and received rewards from a given episode. We will also add support to combine a list of `Memory` objects into a single `Memory`. This will be very useful for batching, which will help you accelerate training later on in the lab.\n",
        "\n",
        "**Once again, note the modularity of this memory buffer -- it can and will be applied to other RL tasks as well!**"
      ]
    },
    {
      "cell_type": "code",
      "metadata": {
        "id": "8MM6JwXVQ4JG"
      },
      "source": [
        "### Agent Memory ###\n",
        "\n",
        "class Memory:\n",
        "  def __init__(self): \n",
        "      self.clear()\n",
        "\n",
        "  # Resets/restarts the memory buffer\n",
        "  def clear(self): \n",
        "      self.observations = []\n",
        "      self.actions = []\n",
        "      self.rewards = []\n",
        "\n",
        "  # Add observations, actions, rewards to memory\n",
        "  def add_to_memory(self, new_observation, new_action, new_reward): \n",
        "      self.observations.append(new_observation)\n",
        "\n",
        "      '''TODO: update the list of actions with new action'''\n",
        "      # TODO: your update code here\n",
        "      self.actions.append(new_action)\n",
        "\n",
        "      '''TODO: update the list of rewards with new reward'''\n",
        "      # TODO: your update code here\n",
        "      self.rewards.append(new_reward)\n",
        "\n",
        "# Helper function to combine a list of Memory objects into a single Memory.\n",
        "#     This will be very useful for batching.\n",
        "def aggregate_memories(memories):\n",
        "  batch_memory = Memory()\n",
        "  \n",
        "  for memory in memories:\n",
        "    for step in zip(memory.observations, memory.actions, memory.rewards):\n",
        "      batch_memory.add_to_memory(*step)\n",
        "  \n",
        "  return batch_memory\n",
        "\n",
        "# Instantiate a single Memory buffer\n",
        "memory = Memory()"
      ],
      "execution_count": 25,
      "outputs": []
    },
    {
      "cell_type": "markdown",
      "metadata": {
        "id": "D4YhtPaUVj5m"
      },
      "source": [
        "## 3.3 Reward function\n",
        "\n",
        "We're almost ready to begin the learning algorithm for our agent! The next step is to compute the rewards of our agent as it acts in the environment. Since we (and the agent) is uncertain about if and when the game or task will end (i.e., when the pole will fall), it is useful to emphasize getting rewards **now** rather than later in the future -- this is the idea of discounting. This is a similar concept to discounting money in the case of interest. ecall from lecture, we use reward discount to give more preference at getting rewards now rather than later in the future. The idea of discounting rewards is similar to discounting money in the case of interest.\n",
        "\n",
        "To compute the expected cumulative reward, known as the **return**, at a given timestep in a learning episode, we sum the discounted rewards expected at that time step $t$, within a learning episode, and projecting into the future. We define the return (cumulative reward) at a time step $t$, $R_{t}$ as:\n",
        "\n",
        ">$R_{t}=\\sum_{k=0}^\\infty\\gamma^kr_{t+k}$\n",
        "\n",
        "where  $0 < \\gamma < 1$ is the discount factor and $r_{t}$ is the reward at time step $t$, and the index $k$ increments projection into the future within a single learning episode. Intuitively, you can think of this function as depreciating any rewards received at later time steps, which will force the agent prioritize getting rewards now. Since we can't extend episodes to infinity, in practice the computation will be limited to the number of timesteps in an episode -- after that the reward is assumed to be zero.\n",
        "\n",
        "Take note of the form of this sum -- we'll have to be clever about how we implement this function. Specifically, we'll need to initialize an array of zeros, with length of the number of time steps, and fill it with the real discounted reward values as we loop through the rewards from the episode, which will have been saved in the agents memory. What we ultimately care about is which actions are better relative to other actions taken in that episode -- so, we'll normalize our computed rewards, using the mean and standard deviation of the rewards across the learning episode.\n"
      ]
    },
    {
      "cell_type": "code",
      "metadata": {
        "id": "5_Q2OFYtQ32X"
      },
      "source": [
        "### Reward function ###\n",
        "\n",
        "# Helper function that normalizes an np.array x\n",
        "def normalize(x):\n",
        "  x -= np.mean(x)\n",
        "  x /= np.std(x)\n",
        "  return x.astype(np.float32)\n",
        "\n",
        "# Compute normalized, discounted, cumulative rewards (i.e., return)\n",
        "# Arguments:\n",
        "#   rewards: reward at timesteps in episode\n",
        "#   gamma: discounting factor\n",
        "# Returns:\n",
        "#   normalized discounted reward\n",
        "def discount_rewards(rewards, gamma=0.95): \n",
        "  discounted_rewards = np.zeros_like(rewards)\n",
        "  R = 0\n",
        "  for t in reversed(range(0, len(rewards))):\n",
        "      # update the total discounted reward\n",
        "      R = R * gamma + rewards[t]\n",
        "      discounted_rewards[t] = R\n",
        "      \n",
        "  return normalize(discounted_rewards)"
      ],
      "execution_count": 26,
      "outputs": []
    },
    {
      "cell_type": "markdown",
      "metadata": {
        "id": "QzbY-mjGYcmt"
      },
      "source": [
        "## 3.4 Learning algorithm\n",
        "\n",
        "Now we can start to define the learing algorithm which will be used to reinforce good behaviors of the agent and discourage bad behaviours. In this lab, we will focus on *policy gradient* methods which aim to **maximize** the likelihood of actions that result in large rewards. Equivalently, this means that we want to **minimize** the negative likelihood of these same actions. We achieve this by simply **scaling** the probabilities by their associated rewards -- effectively amplifying the likelihood of actions that resujlt in large rewards.\n",
        "\n",
        "Since the log function is monotonically increasing, this means that minimizing **negative likelihood** is equivalent to minimizing **negative log-likelihood**.  Recall that we can easily compute the negative log-likelihood of a discrete action by evaluting its [softmax cross entropy](https://www.tensorflow.org/api_docs/python/tf/nn/sparse_softmax_cross_entropy_with_logits). Like in supervised learning, we can use stochastic gradient descent methods to achieve the desired minimization. \n",
        "\n",
        "Let's begin by defining the loss function."
      ]
    },
    {
      "cell_type": "code",
      "metadata": {
        "id": "fsgZ3IDCY_Zn"
      },
      "source": [
        "### Loss function ###\n",
        "\n",
        "# Arguments:\n",
        "#   logits: network's predictions for actions to take\n",
        "#   actions: the actions the agent took in an episode\n",
        "#   rewards: the rewards the agent received in an episode\n",
        "# Returns:\n",
        "#   loss\n",
        "def compute_loss(logits, actions, rewards): \n",
        "  '''TODO: complete the function call to compute the negative log probabilities'''\n",
        "  neg_logprob = tf.nn.sparse_softmax_cross_entropy_with_logits(\n",
        "     logits=logits, labels=actions)\n",
        "  \n",
        "  '''TODO: scale the negative log probability by the rewards'''\n",
        "  loss = tf.reduce_mean(neg_logprob * rewards)\n",
        "  \n",
        "  return loss"
      ],
      "execution_count": 27,
      "outputs": []
    },
    {
      "cell_type": "markdown",
      "metadata": {
        "id": "Rr5vQ9fqbPpp"
      },
      "source": [
        "Now let's use the loss function to define a training step of our learning algorithm:"
      ]
    },
    {
      "cell_type": "code",
      "metadata": {
        "id": "_50ada7nbZ7L"
      },
      "source": [
        "### Training step (forward and backpropagation) ###\n",
        "\n",
        "def train_step(model, optimizer, observations, actions, discounted_rewards):\n",
        "  with tf.GradientTape() as tape:\n",
        "      # Forward propagate through the agent network\n",
        "      logits = model(observations)\n",
        "\n",
        "      '''TODO: call the compute_loss function to compute the loss'''\n",
        "      loss = compute_loss(logits, actions, discounted_rewards)\n",
        "\n",
        "  '''TODO: run backpropagation to minimize the loss using the tape.gradient method'''\n",
        "  grads = tape.gradient(loss, model.trainable_variables)\n",
        "  optimizer.apply_gradients(zip(grads, model.trainable_variables))\n"
      ],
      "execution_count": 28,
      "outputs": []
    },
    {
      "cell_type": "markdown",
      "metadata": {
        "id": "XsjKXh6BcgjR"
      },
      "source": [
        "## 3.5 Run cartpole!\n",
        "\n",
        "Having had no prior knowledge of the environment, the agent will begin to learn how to balance the pole on the cart based only on the feedback received from the environment! Having defined how our agent can move, how it takes in new observations, and how it updates its state, we'll see how it gradually learns a policy of actions to optimize balancing the pole as long as possible. To do this, we'll track how the rewards evolve as a function of training -- how should the rewards change as training progresses?"
      ]
    },
    {
      "cell_type": "code",
      "metadata": {
        "id": "XmOzc2rrcn8Q",
        "outputId": "0f0dba1a-65af-4f63-c0cf-100ce08b5c69",
        "colab": {
          "base_uri": "https://localhost:8080/",
          "height": 541
        }
      },
      "source": [
        "### Cartpole training! ###\n",
        "\n",
        "# Learning rate and optimizer\n",
        "learning_rate = 1e-3\n",
        "optimizer = tf.keras.optimizers.Adam(learning_rate)\n",
        "\n",
        "# instantiate cartpole agent\n",
        "cartpole_model = create_cartpole_model()\n",
        "\n",
        "# to track our progress\n",
        "smoothed_reward = mdl.util.LossHistory(smoothing_factor=0.9)\n",
        "plotter = mdl.util.PeriodicPlotter(sec=2, xlabel='Iterations', ylabel='Rewards')\n",
        "\n",
        "if hasattr(tqdm, '_instances'): tqdm._instances.clear() # clear if it exists\n",
        "for i_episode in range(800):\n",
        "\n",
        "  plotter.plot(smoothed_reward.get())\n",
        "\n",
        "  # Restart the environment\n",
        "  observation = env.reset()\n",
        "  memory.clear()\n",
        "\n",
        "  while True:\n",
        "      # using our observation, choose an action and take it in the environment\n",
        "      action = choose_action(cartpole_model, observation)\n",
        "      next_observation, reward, done, info = env.step(action)\n",
        "      # add to memory\n",
        "      memory.add_to_memory(observation, action, reward)\n",
        "      \n",
        "      # is the episode over? did you crash or do so well that you're done?\n",
        "      if done:\n",
        "          # determine total reward and keep a record of this\n",
        "          total_reward = sum(memory.rewards)\n",
        "          smoothed_reward.append(total_reward)\n",
        "          \n",
        "          # initiate training - remember we don't know anything about how the \n",
        "          #   agent is doing until it has crashed!\n",
        "          train_step(cartpole_model, optimizer, \n",
        "                     observations=np.vstack(memory.observations),\n",
        "                     actions=np.array(memory.actions),\n",
        "                     discounted_rewards = discount_rewards(memory.rewards))\n",
        "          \n",
        "          # reset the memory\n",
        "          memory.clear()\n",
        "          break\n",
        "      # update our observatons\n",
        "      observation = next_observation"
      ],
      "execution_count": 33,
      "outputs": [
        {
          "output_type": "display_data",
          "data": {
            "image/png": "[encoded data removed]",
            "text/plain": [
              "<Figure size 432x288 with 1 Axes>"
            ]
          },
          "metadata": {
            "tags": []
          }
        },
        {
          "output_type": "display_data",
          "data": {
            "image/png": "[encoded data removed]",
            "text/plain": [
              "<Figure size 432x288 with 1 Axes>"
            ]
          },
          "metadata": {
            "tags": [],
            "needs_background": "light"
          }
        }
      ]
    },
    {
      "cell_type": "markdown",
      "metadata": {
        "id": "mkcUtGF1VE-K"
      },
      "source": [
        "To get a sense of how our agent did, we can save a video of the trained model working on balancing the pole. Realize that this is a brand new environment that the agent has not seen before!\n",
        "\n",
        "Let's display the saved video to watch how our agent did!\n"
      ]
    },
    {
      "cell_type": "code",
      "metadata": {
        "id": "PAYBkv6Zbk0J",
        "outputId": "30124c8b-ec14-433c-c079-dfd65e9a4e3f",
        "colab": {
          "base_uri": "https://localhost:8080/",
          "height": 439
        }
      },
      "source": [
        "saved_cartpole = mdl.lab3.save_video_of_model(cartpole_model, \"CartPole-v0\")\n",
        "mdl.lab3.play_video(saved_cartpole)"
      ],
      "execution_count": 34,
      "outputs": [
        {
          "output_type": "stream",
          "text": [
            "Successfully saved 200 frames into CartPole-v0.mp4!\n"
          ],
          "name": "stdout"
        },
        {
          "output_type": "execute_result",
          "data": {
            "text/html": [
              "\n",
              "        <video controls >\n",
              "            <source src=\"data:video/mp4;base64,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\" type=\"video/mp4\" />\n",
              "        </video>"
            ],
            "text/plain": [
              "<IPython.core.display.HTML object>"
            ]
          },
          "metadata": {
            "tags": []
          },
          "execution_count": 34
        }
      ]
    },
    {
      "cell_type": "markdown",
      "metadata": {
        "id": "CSbVNDpaVb3_"
      },
      "source": [
        "How does the agent perform? Could you train it for shorter amounts of time and still perform well? Do you think that training longer would help even more? "
      ]
    },
    {
      "cell_type": "markdown",
      "metadata": {
        "id": "Eu6Mqxc720ST"
      },
      "source": [
        "#Part 2: Pong\n",
        "\n",
        "In Cartpole, we dealt with an environment that was static -- in other words, it didn't change over time. What happens if our environment is dynamic and unpredictable? Well that's exactly the case in [Pong](https://en.wikipedia.org/wiki/Pong), since part of the environment is the opposing player. We don't know how our opponent will act or react to our actions, so the complexity of our problem increases. It also becomes much more interesting, since we can compete to beat our opponent. RL provides a powerful framework for training AI systems with the ability to handle and interact with dynamic, unpredictable environments. In this part of the lab, we'll use the tools and workflow we explored in Part 1 to build an RL agent capable of playing the game of Pong.\n"
      ]
    },
    {
      "cell_type": "markdown",
      "metadata": {
        "id": "srZ4YE29isuA"
      },
      "source": [
        "## 3.6 Define and inspect the Pong environment\n",
        "\n",
        "As with Cartpole, we'll instantiate the Pong environment in the OpenAI gym, using a seed of 1."
      ]
    },
    {
      "cell_type": "code",
      "metadata": {
        "id": "lbYHLr66i15n"
      },
      "source": [
        "def create_pong_env(): \n",
        "  return gym.make(\"Pong-v0\", frameskip=5)\n",
        "env = create_pong_env()\n",
        "env.seed(1); # for reproducibility"
      ],
      "execution_count": null,
      "outputs": []
    },
    {
      "cell_type": "markdown",
      "metadata": {
        "id": "52uZ2Xhyi-MW"
      },
      "source": [
        "Let's next consider the observation space for the Pong environment. Instead of four physical descriptors of the cart-pole setup, in the case of Pong our observations are the individual video frames (i.e., images) that depict the state of the board. Thus, the observations are 210x160 RGB images (arrays of shape (210,160,3)).\n",
        "\n",
        "We can again confirm the size of the observation space by query:"
      ]
    },
    {
      "cell_type": "code",
      "metadata": {
        "id": "0yX4GWvxjnHS"
      },
      "source": [
        "print(\"Environment has observation space =\", env.observation_space)"
      ],
      "execution_count": null,
      "outputs": []
    },
    {
      "cell_type": "markdown",
      "metadata": {
        "id": "uuEC2TdSjx9D"
      },
      "source": [
        "In Pong, at every time step, the agent (which controls the paddle) has six actions to choose from: no-op (no operation), move right, move left, fire, fire right, and fire left. Let's confirm the size of the action space by querying the environment:"
      ]
    },
    {
      "cell_type": "code",
      "metadata": {
        "id": "Iuy9oPc1kag3"
      },
      "source": [
        "n_actions = env.action_space.n\n",
        "print(\"Number of possible actions that the agent can choose from =\", n_actions)"
      ],
      "execution_count": null,
      "outputs": []
    },
    {
      "cell_type": "markdown",
      "metadata": {
        "id": "9-fghDRigUE5"
      },
      "source": [
        "## 3.7 Define the Pong agent\n",
        "\n",
        "As before, we'll use a neural network to define our agent. What network architecture do you think would be especially well suited to this game? Since our observations are now in the form of images, we'll add convolutional layers to the network to increase the learning capacity of our network. Note that you will be tasked with completing a template CNN architecture for the Pong agent -- but you should certainly experiment beyond this template to try to optimize performance!"
      ]
    },
    {
      "cell_type": "code",
      "metadata": {
        "id": "IJiqbFYpgYRH"
      },
      "source": [
        "### Define the Pong agent ###\n",
        "\n",
        "# Functionally define layers for convenience\n",
        "# All convolutional layers will have ReLu activation\n",
        "Conv2D = functools.partial(tf.keras.layers.Conv2D, padding='same', activation='relu')\n",
        "Flatten = tf.keras.layers.Flatten\n",
        "Dense = tf.keras.layers.Dense\n",
        "\n",
        "# Defines a CNN for the Pong agent\n",
        "def create_pong_model():\n",
        "  model = tf.keras.models.Sequential([\n",
        "    # Convolutional layers\n",
        "    # First, 32 5x5 filters and 2x2 stride\n",
        "    Conv2D(filters=32, kernel_size=5, strides=2),\n",
        "\n",
        "    '''TODO: define convolutional layers with 48 5x5 filters and 2x2 stride'''\n",
        "    # [your Conv layer here]\n",
        "\n",
        "    '''TODO: define two convolutional layers with 64 3x3 filters and 2x2 stride'''\n",
        "    # [your Conv layers here]\n",
        "\n",
        "    Flatten(),\n",
        "    \n",
        "    # Fully connected layer and output\n",
        "    Dense(units=128, activation='relu'),\n",
        "\n",
        "    '''TODO: define the output dimension of the last Dense layer. \n",
        "    Pay attention to the space the agent needs to act in'''\n",
        "    # [TODO: your Dense layer here]\n",
        "  \n",
        "  ])\n",
        "  return model\n",
        "\n",
        "pong_model = create_pong_model()"
      ],
      "execution_count": null,
      "outputs": []
    },
    {
      "cell_type": "markdown",
      "metadata": {
        "id": "yaeZ067olFiJ"
      },
      "source": [
        "Since we've already defined the action function, `choose_action(model, observation)`, we don't need to define it again. Instead, we'll be able to reuse it later on by passing in our new model we've just created, `pong_model`. This is awesome because our action function provides a modular and generalizable method for all sorts of RL agents!"
      ]
    },
    {
      "cell_type": "markdown",
      "metadata": {
        "id": "l0RvqOVkmc2r"
      },
      "source": [
        "## 3.8 Pong-specific functions\n",
        "\n",
        "In Part 1 (Cartpole), we implemented some key functions and classes to build and train our RL agent -- `choose_action(model, observation)` and the `Memory` class, for example. However, in getting ready to apply these to a new game like Pong, we might need to make some slight modifications. \n",
        "\n",
        "Namely, we need to think about what happens when a game ends. In Pong, we know a game has ended if the reward is +1 (we won!) or -1 (we lost unfortunately). Otherwise, we expect the reward at a timestep to be zero -- the players (or agents) are just playing eachother. So, after a game ends, we will need to reset the reward to zero when a game ends. This will result in a modified reward function."
      ]
    },
    {
      "cell_type": "code",
      "metadata": {
        "id": "iEZG2o50luLu"
      },
      "source": [
        "### Pong reward function ###\n",
        "\n",
        "# Compute normalized, discounted rewards for Pong (i.e., return)\n",
        "# Arguments:\n",
        "#   rewards: reward at timesteps in episode\n",
        "#   gamma: discounting factor. Note increase to 0.99 -- rate of depreciation will be slower.\n",
        "# Returns:\n",
        "#   normalized discounted reward\n",
        "def discount_rewards(rewards, gamma=0.99): \n",
        "  discounted_rewards = np.zeros_like(rewards)\n",
        "  R = 0\n",
        "  for t in reversed(range(0, len(rewards))):\n",
        "      # NEW: Reset the sum if the reward is not 0 (the game has ended!)\n",
        "      if rewards[t] != 0:\n",
        "        R = 0\n",
        "      # update the total discounted reward as before\n",
        "      R = R * gamma + rewards[t]\n",
        "      discounted_rewards[t] = R\n",
        "      \n",
        "  return normalize(discounted_rewards)"
      ],
      "execution_count": null,
      "outputs": []
    },
    {
      "cell_type": "markdown",
      "metadata": {
        "id": "HopLpb4IoOqA"
      },
      "source": [
        "Additionally, we have to consider the nature of the observations in the Pong environment, and how they will be fed into our network. Our observations in this case are images. Before we input an image into our network, we'll do a bit of pre-processing to crop and scale, clean up the background colors to a single color, and set the important game elements to a single color. Let's use this function to visualize what a single observation might look like before and after pre-processing."
      ]
    },
    {
      "cell_type": "code",
      "metadata": {
        "id": "no5IIYtFm8pI"
      },
      "source": [
        "observation = env.reset()\n",
        "for i in range(30):\n",
        "  action = np.random.choice(n_actions)\n",
        "  observation, _,_,_ = env.step(action)\n",
        "observation_pp = mdl.lab3.preprocess_pong(observation)\n",
        "\n",
        "f = plt.figure(figsize=(10,3))\n",
        "ax = f.add_subplot(121)\n",
        "ax2 = f.add_subplot(122)\n",
        "ax.imshow(observation); ax.grid(False);\n",
        "ax2.imshow(np.squeeze(observation_pp)); ax2.grid(False); plt.title('Preprocessed Observation');"
      ],
      "execution_count": null,
      "outputs": []
    },
    {
      "cell_type": "markdown",
      "metadata": {
        "id": "YBLVfdpv7ajG"
      },
      "source": [
        "Let's also consider the fact that, unlike CartPole, the Pong environment has an additional element of uncertainty -- regardless of what action the agent takes, we don't know how the opponent will play. That is, the environment is changing over time, based on *both* the actions we take and the actions of the opponent, which result in motion of the ball and motion of the paddles.\r\n",
        "\r\n",
        "Therefore, to capture the dynamics, we also consider how the environment changes by looking at the difference between a previous observation (image frame) and the current observation (image frame). We've implemented a helper function, `pong_change`, that pre-processes two frames, calculates the change between the two, and then re-normalizes the values. Let's inspect this to visualize how the environment can change:"
      ]
    },
    {
      "cell_type": "code",
      "metadata": {
        "id": "ItWrUwM87ZBw"
      },
      "source": [
        "next_observation, _,_,_ = env.step(np.random.choice(n_actions))\r\n",
        "diff = mdl.lab3.pong_change(observation, next_observation)\r\n",
        "\r\n",
        "f, ax = plt.subplots(1, 3, figsize=(15,15))\r\n",
        "for a in ax:\r\n",
        "  a.grid(False)\r\n",
        "  a.axis(\"off\")\r\n",
        "ax[0].imshow(observation); ax[0].set_title('Previous Frame');\r\n",
        "ax[1].imshow(next_observation); ax[1].set_title('Current Frame');\r\n",
        "ax[2].imshow(np.squeeze(diff)); ax[2].set_title('Difference (Model Input)');"
      ],
      "execution_count": null,
      "outputs": []
    },
    {
      "cell_type": "markdown",
      "metadata": {
        "id": "bYwIWC-Cz8F2"
      },
      "source": [
        "What do you notice? How and why might these pre-processing changes be important for training our RL algorithm? How and why might consideration of the difference between frames be important for training and performance?"
      ]
    },
    {
      "cell_type": "markdown",
      "metadata": {
        "id": "YiJLu9SEAJu6"
      },
      "source": [
        "### Rollout function\r\n",
        "\r\n",
        "We're now set up to define our key action algorithm for the game of Pong, which will ultimately be used to train our Pong agent. This function can be thought of as a \"rollout\", where the agent will 1) make an observation of the environment, 2) select an action based on its state in the environment, 3) execute a policy based on that action, resulting in some reward and a change to the environment, and 4) finally add memory of that action-reward to its `Memory` buffer. We will define this algorithm in the `collect_rollout` function below, and use it soon within a training block.\r\n",
        "\r\n",
        "Earlier you visually inspected the raw environment frames, the pre-processed frames, and the difference between previous and current frames. As you may have gathered, in a dynamic game like Pong, it can actually be helpful to consider the difference between two consecutive observations. This gives us information about the movement between frames -- how the game is changing. We will do this using the `pong_change` function we explored above (which also pre-processes frames for us).\r\n",
        "\r\n",
        "We will use differences between frames as the input on which actions will be selected. These observation changes will be forward propagated through our Pong agent, the CNN network model, which will then predict the next action to take based on this observation. The raw reward will be computed. The observation, action, and reward will be recorded into memory. This will loop until a particular game ends -- the rollout is completed.\r\n",
        "\r\n",
        "For now, we will define `collect_rollout` such that a batch of observations (i.e., from a batch of agent-environment worlds) can be processed serially (i.e., one at a time, in sequence). We will later utilize a parallelized version of this function that will parallelize batch processing to help speed up training! Let's get to it."
      ]
    },
    {
      "cell_type": "code",
      "metadata": {
        "id": "CH9C4JXUOyv-"
      },
      "source": [
        "### Rollout function ###\n",
        "\n",
        "# Key steps for agent's operation in the environment, until completion of a rollout.\n",
        "# An observation is drawn; the agent (controlled by model) selects an action;\n",
        "#   the agent executes that action in the environment and collects rewards;\n",
        "#   information is added to memory.\n",
        "# This is repeated until the completion of the rollout -- the Pong game ends.\n",
        "# Processes multiple batches serially.\n",
        "#\n",
        "# Arguments:\n",
        "#   batch_size: number of batches, to be processed serially\n",
        "#   env: environment\n",
        "#   model: Pong agent model\n",
        "#   choose_action: choose_action function\n",
        "# Returns:\n",
        "#   memories: array of Memory buffers, of length batch_size, corresponding to the\n",
        "#     episode executions from the rollout\n",
        "def collect_rollout(batch_size, env, model, choose_action):\n",
        "\n",
        "  # Holder array for the Memory buffers\n",
        "  memories = []\n",
        "\n",
        "  # Process batches serially by iterating through them\n",
        "  for b in range(batch_size):\n",
        "\n",
        "    # Instantiate Memory buffer, restart the environment\n",
        "    memory = Memory()\n",
        "    next_observation = env.reset()\n",
        "    previous_frame = next_observation\n",
        "    done = False # tracks whether the episode (game) is done or not\n",
        "\n",
        "    while not done:\n",
        "\n",
        "      current_frame = next_observation\n",
        "\n",
        "      '''TODO: determine the observation change.\n",
        "      Hint: this is the difference between the past two frames'''\n",
        "      frame_diff = # TODO\n",
        "\n",
        "      '''TODO: choose an action for the pong model, using the frame difference, and evaluate'''\n",
        "      action = # TODO\n",
        "\n",
        "      # Take the chosen action\n",
        "      next_observation, reward, done, info = env.step(action)\n",
        "\n",
        "      '''TODO: save the observed frame difference, the action that was taken, and the resulting reward!'''\n",
        "      memory.add_to_memory('''TODO''', '''TODO''', '''TODO''')\n",
        "\n",
        "      previous_frame = current_frame\n",
        "    \n",
        "    # Add the memory from this batch to the array of all Memory buffers\n",
        "    memories.append(memory)\n",
        "  \n",
        "  return memories"
      ],
      "execution_count": null,
      "outputs": []
    },
    {
      "cell_type": "markdown",
      "metadata": {
        "id": "NGIJvFUHHbDi"
      },
      "source": [
        "To get a sense of what is encapsulated by `collect_rollout`, we will instantiate an *untrained* Pong model, run a single rollout using this model, save the memory, and play back the observations the model sees. Note that these will be frame *differences*."
      ]
    },
    {
      "cell_type": "code",
      "metadata": {
        "id": "msNBRcULHbrd"
      },
      "source": [
        "### Rollout with untrained Pong model ###\r\n",
        "\r\n",
        "# Model\r\n",
        "test_model = create_pong_model()\r\n",
        "\r\n",
        "# Rollout with single batch\r\n",
        "single_batch_size = 1\r\n",
        "memories = collect_rollout(single_batch_size, env, test_model, choose_action)\r\n",
        "rollout_video = mdl.lab3.save_video_of_memory(memories[0], \"Pong-Random-Agent.mp4\")\r\n",
        "\r\n",
        "# Play back video of memories\r\n",
        "mdl.lab3.play_video(rollout_video)"
      ],
      "execution_count": null,
      "outputs": []
    },
    {
      "cell_type": "markdown",
      "metadata": {
        "id": "mRqcaDQ1pm3x"
      },
      "source": [
        "## 3.9 Training Pong\n",
        "\n",
        "We're now all set up to start training our RL algorithm and agent for the game of Pong! We've already defined the following:\n",
        "\n",
        "1. Loss function, `compute_loss`, and backpropagation step, `train_step`. Our loss function employs policy gradient learning. `train_step` executes a single forward pass and backpropagation gradient update.\n",
        "2. RL agent algorithm: `collect_rollout`. Serially processes batches of episodes, executing actions in the environment, collecting rewards, and saving these to `Memory`.\n",
        "\n",
        "We will use these functions to train the Pong agent.\n",
        "\n",
        "In the training block, episodes will be executed by agents in the environment via the RL algorithm defined in the `collect_rollout` function. Since RL agents start off with literally zero knowledge of their environment, it can often take a long time to train them and achieve stable behavior. To alleviate this, we have implemented a parallelized version of the RL algorithm, `parallelized_collect_rollout`, which you can use to accelerate training across multiple parallel batches.\n",
        "\n",
        "For training, information in the `Memory` buffer from all these batches will be aggregated (after all episodes, i.e., games, end). Discounted rewards will be computed, and this information will be used to execute a training step. Memory will be cleared, and we will do it all over again!\n",
        "\n",
        "Let's run the code block to train our Pong agent. Note that, even with parallelization, completing training and getting stable behavior will take quite a bit of time (estimated at least a couple of hours). We will again visualize the evolution of the total reward as a function of training to get a sense of how the agent is learning."
      ]
    },
    {
      "cell_type": "code",
      "metadata": {
        "id": "FaEHTMRVMRXP"
      },
      "source": [
        "### Hyperparameters and setup for training ###\r\n",
        "# Rerun this cell if you want to re-initialize the training process\r\n",
        "#   (i.e., create new model, reset loss, etc)\r\n",
        "\r\n",
        "# Hyperparameters\r\n",
        "learning_rate = 1e-3\r\n",
        "MAX_ITERS = 1000 # increase the maximum to train longer\r\n",
        "batch_size = 5 # number of batches to run\r\n",
        "\r\n",
        "# Model, optimizer\r\n",
        "pong_model = create_pong_model()\r\n",
        "optimizer = tf.keras.optimizers.Adam(learning_rate)\r\n",
        "iteration = 0 # counter for training steps\r\n",
        "\r\n",
        "# Plotting\r\n",
        "smoothed_reward = mdl.util.LossHistory(smoothing_factor=0.9)\r\n",
        "smoothed_reward.append(0) # start the reward at zero for baseline comparison\r\n",
        "plotter = mdl.util.PeriodicPlotter(sec=15, xlabel='Iterations', ylabel='Win Percentage (%)')\r\n",
        "\r\n",
        "# Batches and environment\r\n",
        "# To parallelize batches, we need to make multiple copies of the environment.\r\n",
        "envs = [create_pong_env() for _ in range(batch_size)] # For parallelization"
      ],
      "execution_count": null,
      "outputs": []
    },
    {
      "cell_type": "code",
      "metadata": {
        "id": "xCwyQQrPnkZG"
      },
      "source": [
        "### Training Pong ###\n",
        "# You can run this cell and stop it anytime in the middle of training to save \n",
        "#   a progress video (see next codeblock). To continue training, simply run this \n",
        "#   cell again, your model will pick up right where it left off. To reset training,\n",
        "#   you need to run the cell above. \n",
        "\n",
        "games_to_win_episode = 21 # this is set by OpenAI gym and cannot be changed.\n",
        "\n",
        "# Main training loop\n",
        "while iteration < MAX_ITERS:\n",
        "\n",
        "  plotter.plot(smoothed_reward.get())\n",
        "\n",
        "  tic = time.time()\n",
        "  # RL agent algorithm. By default, uses serial batch processing.\n",
        "  # memories = collect_rollout(batch_size, env, pong_model, choose_action)\n",
        "\n",
        "  # Parallelized version. Uncomment line below (and comment out line above) to parallelize\n",
        "  memories = mdl.lab3.parallelized_collect_rollout(batch_size, envs, pong_model, choose_action)\n",
        "  print(time.time()-tic)\n",
        "\n",
        "  # Aggregate memories from multiple batches\n",
        "  batch_memory = aggregate_memories(memories)\n",
        "\n",
        "  # Track performance based on win percentage (calculated from rewards)\n",
        "  total_wins = sum(np.array(batch_memory.rewards) == 1)\n",
        "  total_games = sum(np.abs(np.array(batch_memory.rewards)))\n",
        "  win_rate = total_wins / total_games\n",
        "  smoothed_reward.append(100 * win_rate)\n",
        "  \n",
        "  # Training!\n",
        "  train_step(\n",
        "      pong_model,\n",
        "      optimizer,\n",
        "      observations = np.stack(batch_memory.observations, 0),\n",
        "      actions = np.array(batch_memory.actions),\n",
        "      discounted_rewards = discount_rewards(batch_memory.rewards)\n",
        "  )\n",
        "\n",
        "  # Save a video of progress -- this can be played back later\n",
        "  if iteration % 100 == 0:\n",
        "    mdl.lab3.save_video_of_model(pong_model, \"Pong-v0\", \n",
        "                                                suffix=\"_\"+str(iteration))\n",
        "    \n",
        "  iteration += 1 # Mark next episode"
      ],
      "execution_count": null,
      "outputs": []
    },
    {
      "cell_type": "markdown",
      "metadata": {
        "id": "8LiEY5Y_ts-Z"
      },
      "source": [
        "Finally we can put our trained agent to the test! It will play in a newly instantiated Pong environment against the \"computer\", a base AI system for Pong. Your agent plays as the green paddle. Let's watch the match instant replay!"
      ]
    },
    {
      "cell_type": "code",
      "metadata": {
        "id": "TvHXbkL0tR6M"
      },
      "source": [
        "latest_pong = mdl.lab3.save_video_of_model(\n",
        "    pong_model, \"Pong-v0\", suffix=\"_latest\")\n",
        "mdl.lab3.play_video(latest_pong, width=400)"
      ],
      "execution_count": null,
      "outputs": []
    },
    {
      "cell_type": "markdown",
      "metadata": {
        "id": "TIlwIgBP3Js6"
      },
      "source": [
        "## 3.10 Conclusion and submission information\n",
        "\n",
        "That's it! Congratulations on training two RL agents and putting them to the test! We encourage you to consider the following:\n",
        "\n",
        "*   How does the agent perform?\n",
        "*   Could you train it for shorter amounts of time  and still perform well?\n",
        "* What are some limitations of the current representation i.e., difference of current and previous frames? How is this reflected in the agent's behavior? What could be done to generate an improved representation?\n",
        "* How does the complexity of Pong relative to CartPole alter the rate at which the agent learns and its performance? \n",
        "* What are some things you could change about the agent or the learning process to potentially improve performance?\n",
        "\n",
        "Try to optimize your **Pong** model and algorithm to achieve improved performance.  **MIT students and affiliates will be eligible for prizes during the IAP offering.** To enter the competition, MIT students and affiliates should upload the following to the course Canvas:\n",
        "\n",
        "* Jupyter notebook with the code you used to generate your results, **with the Pong training executed**;\n",
        "* saved video of your Pong agent competing;\n",
        "* a description and/or diagram of the architecture, settings, and hyperparameters you used to generate your result -- if there are any additional or interesting modifications you made to the template code, please include these in your description;\n",
        "* discussion of why these modifications helped improve performance.\n",
        "\n",
        "Good luck!"
      ]
    }
  ]
}